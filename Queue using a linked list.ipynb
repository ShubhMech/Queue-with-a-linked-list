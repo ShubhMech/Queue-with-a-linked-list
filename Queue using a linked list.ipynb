{
 "cells": [
  {
   "cell_type": "code",
   "execution_count": 60,
   "id": "da688a07-bcae-4be1-b493-3071df72b040",
   "metadata": {},
   "outputs": [],
   "source": [
    "class Nodes:\n",
    "    def __init__(self,value):\n",
    "        self.value=value\n",
    "        self.next=None\n",
    "        \n",
    "class Linked_List:\n",
    "    def __init__(self):\n",
    "        self.head=None\n",
    "        self.tail=None\n",
    "\n",
    "class Queue:\n",
    "    def __init__(self):\n",
    "        self.items=Linked_List()\n",
    "        \n",
    "    def enqueue(self,value):\n",
    "        node=Nodes(value)\n",
    "        if self.items.head is not None:\n",
    "        \n",
    "            self.items.tail.next=node\n",
    "            self.items.tail=node\n",
    "            \n",
    "        else:\n",
    "            self.items.head=node\n",
    "            self.items.tail=node\n",
    "            \n",
    "    def is_empty(self):\n",
    "        if self.items.head is None:\n",
    "            return True\n",
    "        else:\n",
    "            return False\n",
    "    \n",
    "    \n",
    "    def dequeue(self):\n",
    "        if self.is_empty():\n",
    "            return \"Can't dequeue, dumbass!\"\n",
    "        else:\n",
    "            temp=self.items.head\n",
    "            \n",
    "            if self.items.head==self.items.tail:\n",
    "                \n",
    "                self.items.tail, self.items.head=None\n",
    "                \n",
    "            else:\n",
    "                self.items.head=self.items.head.next\n",
    "                \n",
    "            return temp\n",
    "    \n",
    "    def peep(self):\n",
    "        if self.is_empty():\n",
    "            return \"Can't peep, dumbass!\"\n",
    "        else:\n",
    "            return self.items.head.value\n",
    "            \n",
    "    def delete(self):\n",
    "        if self.is_empty():\n",
    "            return \"Can't delete, dumbass!\"\n",
    "        else:\n",
    "            self.items.head, self.items.tail=None\n",
    "            return self.items.head.value"
   ]
  },
  {
   "cell_type": "code",
   "execution_count": 61,
   "id": "b14e573d-c2cf-4cd9-b5c8-122bb9c1d376",
   "metadata": {},
   "outputs": [],
   "source": [
    "q=Queue()"
   ]
  },
  {
   "cell_type": "code",
   "execution_count": 62,
   "id": "70377c29-3596-4910-9d84-41d2cab8628a",
   "metadata": {},
   "outputs": [
    {
     "data": {
      "text/plain": [
       "\"Can't peep, dumbass!\""
      ]
     },
     "execution_count": 62,
     "metadata": {},
     "output_type": "execute_result"
    }
   ],
   "source": [
    "q.peep()"
   ]
  },
  {
   "cell_type": "code",
   "execution_count": 63,
   "id": "36b51fe3-ecc4-4441-aff6-9eca8eaac581",
   "metadata": {},
   "outputs": [
    {
     "data": {
      "text/plain": [
       "\"Can't delete, dumbass!\""
      ]
     },
     "execution_count": 63,
     "metadata": {},
     "output_type": "execute_result"
    }
   ],
   "source": [
    "q.delete()"
   ]
  },
  {
   "cell_type": "code",
   "execution_count": 64,
   "id": "61ae3839-4433-45df-a2b7-0bac3b215ef3",
   "metadata": {},
   "outputs": [],
   "source": [
    "q.enqueue(4)"
   ]
  },
  {
   "cell_type": "code",
   "execution_count": 65,
   "id": "6b6f906c-6d64-47dc-9748-8e987cae7e50",
   "metadata": {},
   "outputs": [
    {
     "name": "stdout",
     "output_type": "stream",
     "text": [
      "4\n"
     ]
    }
   ],
   "source": [
    "print(q.items.head.value)"
   ]
  },
  {
   "cell_type": "code",
   "execution_count": 66,
   "id": "711287f2-cf0f-4e37-829f-5857ce9e0253",
   "metadata": {},
   "outputs": [
    {
     "name": "stdout",
     "output_type": "stream",
     "text": [
      "4\n"
     ]
    }
   ],
   "source": [
    "print(q.items.tail.value)"
   ]
  },
  {
   "cell_type": "code",
   "execution_count": 67,
   "id": "066ab5f1-c6dc-496d-8e80-06b34bde6087",
   "metadata": {},
   "outputs": [],
   "source": [
    "q.enqueue(5)"
   ]
  },
  {
   "cell_type": "code",
   "execution_count": 68,
   "id": "849531bd-c6d7-4918-9e6f-af75ab695b78",
   "metadata": {},
   "outputs": [],
   "source": [
    "q.enqueue(45)"
   ]
  },
  {
   "cell_type": "code",
   "execution_count": 69,
   "id": "39b403c5-0aae-4e91-8afa-0d7d88b26733",
   "metadata": {},
   "outputs": [],
   "source": [
    "q.enqueue(456)"
   ]
  },
  {
   "cell_type": "code",
   "execution_count": 70,
   "id": "62752e36-917e-4680-b81a-100be7738184",
   "metadata": {},
   "outputs": [
    {
     "name": "stdout",
     "output_type": "stream",
     "text": [
      "4\n"
     ]
    }
   ],
   "source": [
    "print(q.items.head.value)"
   ]
  },
  {
   "cell_type": "code",
   "execution_count": 71,
   "id": "46912fb0-0f84-469c-a311-d09f440f4b54",
   "metadata": {},
   "outputs": [
    {
     "data": {
      "text/plain": [
       "<__main__.Nodes at 0x2566cf5c2b0>"
      ]
     },
     "execution_count": 71,
     "metadata": {},
     "output_type": "execute_result"
    }
   ],
   "source": [
    "q.items.head"
   ]
  },
  {
   "cell_type": "code",
   "execution_count": 72,
   "id": "9273be0b-5e2a-4548-9d3c-d81d19367bba",
   "metadata": {},
   "outputs": [
    {
     "data": {
      "text/plain": [
       "4"
      ]
     },
     "execution_count": 72,
     "metadata": {},
     "output_type": "execute_result"
    }
   ],
   "source": [
    "q.peep()"
   ]
  },
  {
   "cell_type": "code",
   "execution_count": 73,
   "id": "3fda071d-7285-4bfa-bf8c-19470d7d4361",
   "metadata": {
    "tags": []
   },
   "outputs": [
    {
     "data": {
      "text/plain": [
       "<__main__.Nodes at 0x2566cf5c2b0>"
      ]
     },
     "execution_count": 73,
     "metadata": {},
     "output_type": "execute_result"
    }
   ],
   "source": [
    "q.dequeue()"
   ]
  },
  {
   "cell_type": "code",
   "execution_count": 75,
   "id": "06516eac-34f4-4c54-87c2-1e46c04b504a",
   "metadata": {},
   "outputs": [
    {
     "data": {
      "text/plain": [
       "5"
      ]
     },
     "execution_count": 75,
     "metadata": {},
     "output_type": "execute_result"
    }
   ],
   "source": [
    "q.items.head.value"
   ]
  },
  {
   "cell_type": "code",
   "execution_count": 76,
   "id": "add6c9d2-536a-4851-b887-7685606b18cb",
   "metadata": {},
   "outputs": [
    {
     "data": {
      "text/plain": [
       "<__main__.Nodes at 0x2566cf5cdc0>"
      ]
     },
     "execution_count": 76,
     "metadata": {},
     "output_type": "execute_result"
    }
   ],
   "source": [
    "q.dequeue()"
   ]
  },
  {
   "cell_type": "code",
   "execution_count": 77,
   "id": "f00d6f89-d429-47e5-b04f-9fbc4e18e79b",
   "metadata": {},
   "outputs": [
    {
     "data": {
      "text/plain": [
       "45"
      ]
     },
     "execution_count": 77,
     "metadata": {},
     "output_type": "execute_result"
    }
   ],
   "source": [
    "q.items.head.value"
   ]
  },
  {
   "cell_type": "code",
   "execution_count": null,
   "id": "86d4889f-5bf6-464d-8dc7-afa4eb409e7a",
   "metadata": {},
   "outputs": [],
   "source": []
  }
 ],
 "metadata": {
  "kernelspec": {
   "display_name": "Python 3",
   "language": "python",
   "name": "python3"
  },
  "language_info": {
   "codemirror_mode": {
    "name": "ipython",
    "version": 3
   },
   "file_extension": ".py",
   "mimetype": "text/x-python",
   "name": "python",
   "nbconvert_exporter": "python",
   "pygments_lexer": "ipython3",
   "version": "3.8.5"
  }
 },
 "nbformat": 4,
 "nbformat_minor": 5
}
